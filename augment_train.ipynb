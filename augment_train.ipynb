{
 "cells": [
  {
   "cell_type": "code",
   "execution_count": null,
   "metadata": {},
   "outputs": [],
   "source": [
    "!pip install Augmentor\n",
    "import Augmentor"
   ]
  },
  {
   "cell_type": "markdown",
   "metadata": {},
   "source": [
    "#ใส่ path ที่เก็บไฟล์ training set ทีละ path ผลลัพธ์จะอยู่ในโฟลเดอร์ที่ชื่อ output ในโฟลเดอร์นั้นๆ"
   ]
  },
  {
   "cell_type": "code",
   "execution_count": null,
   "metadata": {},
   "outputs": [],
   "source": [
    "\n",
    "p = Augmentor.Pipeline(\"/Users/ppbas/Desktop/testAugmentor/ImageforTest/white\")"
   ]
  },
  {
   "cell_type": "markdown",
   "metadata": {},
   "source": [
    "#ใส่วิธีการ Augment (สามารถศึกษาวิธีการทำเพิมได้)\n",
    "#https://github.com/mdbloice/Augmentor"
   ]
  },
  {
   "cell_type": "code",
   "execution_count": null,
   "metadata": {},
   "outputs": [],
   "source": [
    "\n",
    "p.rotate90(probability=0.5)\n",
    "p.rotate270(probability=0.5)\n",
    "p.flip_left_right(probability=0.8)\n",
    "p.flip_top_bottom(probability=0.3)\n",
    "p.crop_random(probability=1, percentage_area=0.8)\n",
    "#อันล่างนี้จะใส่หรือไม่ใส่ก็ได้ ใส่เพื่อลดขนาดไฟล์\n",
    "#p.resize(probability=1.0, width=299, height=299) "
   ]
  },
  {
   "cell_type": "markdown",
   "metadata": {},
   "source": [
    "#ใส่จำนวนรูปภาพที่ต้องการใน sample()"
   ]
  },
  {
   "cell_type": "code",
   "execution_count": null,
   "metadata": {},
   "outputs": [],
   "source": [
    "\n",
    "p.sample(200)"
   ]
  }
 ],
 "metadata": {
  "interpreter": {
   "hash": "bd16a70e9a1ab7bfaa54a31f83e627325d68232722247b364aaa8d63262c06be"
  },
  "kernelspec": {
   "display_name": "Python 3.7.9 64-bit ('myenv': conda)",
   "name": "python3"
  },
  "language_info": {
   "codemirror_mode": {
    "name": "ipython",
    "version": 3
   },
   "file_extension": ".py",
   "mimetype": "text/x-python",
   "name": "python",
   "nbconvert_exporter": "python",
   "pygments_lexer": "ipython3",
   "version": "3.7.9"
  },
  "orig_nbformat": 4
 },
 "nbformat": 4,
 "nbformat_minor": 2
}
